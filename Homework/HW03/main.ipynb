{
 "cells": [
  {
   "cell_type": "markdown",
   "metadata": {},
   "source": [
    "# Homework 3\n",
    "By 張皓鈞\n",
    "\n",
    "OOP的外送員派單系統，含銀行系統"
   ]
  },
  {
   "cell_type": "markdown",
   "metadata": {},
   "source": [
    "## Account Class\n",
    "帳戶類"
   ]
  },
  {
   "cell_type": "code",
   "execution_count": 436,
   "metadata": {},
   "outputs": [],
   "source": [
    "class Account:\n",
    "\n",
    "    def __init__(self, money: float):\n",
    "        self.money = money\n",
    "\n",
    "    @property\n",
    "    def money(self) -> float:\n",
    "        return self._money\n",
    "\n",
    "    @money.setter\n",
    "    def money(self, money: float):\n",
    "        self._money = money"
   ]
  },
  {
   "cell_type": "markdown",
   "metadata": {},
   "source": [
    "## Deliveryman Class\n",
    "外送員類"
   ]
  },
  {
   "cell_type": "code",
   "execution_count": 437,
   "metadata": {},
   "outputs": [],
   "source": [
    "class Deliveryman(Account):\n",
    "\n",
    "    def __init__(self, name: str, pos: tuple, money = 10000):\n",
    "        self._name = name\n",
    "        self._pos = pos\n",
    "        super().__init__(money)\n",
    "\n",
    "    def __str__(self):\n",
    "        return \"{}({}, {})\".format(self._name, self._pos[0], self._pos[1])\n",
    "\n",
    "    @property\n",
    "    def name(self) -> str:\n",
    "        return self._name\n",
    "\n",
    "    @property\n",
    "    def pos(self) -> tuple:\n",
    "        return self._pos\n",
    "\n",
    "    @pos.setter\n",
    "    def pos(self, pos: tuple):\n",
    "        self._pos = pos"
   ]
  },
  {
   "cell_type": "markdown",
   "metadata": {},
   "source": [
    "## Buyer Class\n",
    "顧客類"
   ]
  },
  {
   "cell_type": "code",
   "execution_count": 438,
   "metadata": {},
   "outputs": [],
   "source": [
    "class Buyer:\n",
    "\n",
    "    def __init__(self, name: str, pos: tuple):\n",
    "        self._name = name\n",
    "        self._pos = pos\n",
    "\n",
    "    def __str__(self):\n",
    "        return \"{}({}, {})\".format(self._name, self._pos[0], self._pos[1])\n",
    "\n",
    "    @property\n",
    "    def name(self) -> str:\n",
    "        return self._name\n",
    "\n",
    "    @property\n",
    "    def pos(self) -> tuple:\n",
    "        return self._pos\n",
    "\n",
    "    @pos.setter\n",
    "    def pos(self, pos: tuple):\n",
    "        self._pos = pos"
   ]
  },
  {
   "cell_type": "markdown",
   "metadata": {},
   "source": [
    "## Path Class\n",
    "路徑類"
   ]
  },
  {
   "cell_type": "code",
   "execution_count": 439,
   "metadata": {},
   "outputs": [],
   "source": [
    "class Path:\n",
    "\n",
    "    @staticmethod\n",
    "    def getTwoPosDistance(pos1: tuple, pos2: tuple) -> float:\n",
    "        \"\"\"\n",
    "        計算兩點的曼哈頓距離\n",
    "\n",
    "        Args:\n",
    "            pos1 (tuple): 點1\n",
    "            pos2 (tuple): 點2\n",
    "\n",
    "        Returns:\n",
    "            float: 曼哈頓距離\n",
    "        \"\"\"\n",
    "        distance = abs( pos1[0] - pos2[0] ) + abs( pos1[1] - pos2[1] )\n",
    "        return distance\n",
    "\n",
    "    @staticmethod\n",
    "    def getLowestCostPath(deliveryman: Deliveryman, buyers: list[Buyer]) -> list:\n",
    "        \"\"\"\n",
    "        計算外送最短段路徑\n",
    "\n",
    "        Args:\n",
    "            deliveryman (Deliveryman): 外送員\n",
    "            buyers (list[Buyer]): 買家列表\n",
    "\n",
    "        Returns:\n",
    "            list: 路徑列表\n",
    "        \"\"\"\n",
    "        buyers_sorted = sorted(buyers, key = lambda buyer: Path.getTwoPosDistance(deliveryman.pos, buyer.pos))\n",
    "        path = list()\n",
    "        last_pos = deliveryman.pos\n",
    "        for buyer in buyers_sorted:\n",
    "            path.append({\n",
    "                \"buyer\": buyer,\n",
    "                \"distance\": Path.getTwoPosDistance(last_pos, buyer.pos)\n",
    "            })\n",
    "            last_pos = buyer.pos\n",
    "        return path"
   ]
  },
  {
   "cell_type": "markdown",
   "metadata": {},
   "source": [
    "## Money Class\n",
    "錢類"
   ]
  },
  {
   "cell_type": "code",
   "execution_count": 440,
   "metadata": {},
   "outputs": [],
   "source": [
    "class Money:\n",
    "    \n",
    "    @staticmethod\n",
    "    def getDeliveryBonus(distance: float) -> float:\n",
    "        \"\"\"\n",
    "        計算外送距離獎勵金\n",
    "\n",
    "        Args:\n",
    "            distance (float): 距離\n",
    "\n",
    "        Returns:\n",
    "            float: 獎勵金\n",
    "        \"\"\"\n",
    "        return distance * 0.01 * 5\n",
    "\n",
    "    @staticmethod\n",
    "    def saveMoney(account: Account, money: float):\n",
    "        \"\"\"\n",
    "        為指定帳戶存款\n",
    "\n",
    "        Args:\n",
    "            account (Account): 帳戶\n",
    "            money (float): 金額\n",
    "        \"\"\"\n",
    "        account.money += money\n",
    "\n",
    "    @staticmethod\n",
    "    def withdrawMoney(account: Account, money: float):\n",
    "        \"\"\"\n",
    "        為指定帳戶提蒯\n",
    "\n",
    "        Args:\n",
    "            account (Account): 帳戶\n",
    "            money (float): 金額\n",
    "\n",
    "        Raises:\n",
    "            ValueError: 餘額不足\n",
    "        \"\"\"\n",
    "        if account.money >= money:\n",
    "            account.money -= money\n",
    "        else:\n",
    "            raise ValueError(\"存戶餘額不足！\")"
   ]
  },
  {
   "cell_type": "markdown",
   "metadata": {},
   "source": [
    "## Main\n",
    "主程式"
   ]
  },
  {
   "cell_type": "code",
   "execution_count": 441,
   "metadata": {},
   "outputs": [],
   "source": [
    "import random\n",
    "import math"
   ]
  },
  {
   "cell_type": "code",
   "execution_count": 442,
   "metadata": {},
   "outputs": [
    {
     "name": "stdout",
     "output_type": "stream",
     "text": [
      "外送員資訊\n",
      "名稱\t座標\n",
      "甲外送員\t(-117, 19)\n",
      "乙外送員\t(185, -932)\n"
     ]
    }
   ],
   "source": [
    "deliveryman_name = [\"甲外送員\", \"乙外送員\"]\n",
    "deliverymans = [Deliveryman(name, (random.randint(-1000, 1000), random.randint(-1000, 1000))) for name in deliveryman_name]\n",
    "\n",
    "print(\"外送員資訊\")\n",
    "print(\"名稱\\t座標\")\n",
    "for deliveryman in deliverymans:\n",
    "    print(\"{}\\t{}\".format(deliveryman.name, deliveryman.pos))"
   ]
  },
  {
   "cell_type": "code",
   "execution_count": 443,
   "metadata": {},
   "outputs": [
    {
     "name": "stdout",
     "output_type": "stream",
     "text": [
      "買家資訊\n",
      "名稱\t座標\n",
      "買家A\t(-522, -384)\n",
      "買家B\t(-140, -394)\n",
      "買家C\t(363, 555)\n"
     ]
    }
   ],
   "source": [
    "buyer_name = [\"買家A\", \"買家B\", \"買家C\"]\n",
    "buyers = [Buyer(name, (random.randint(-1000, 1000), random.randint(-1000, 1000))) for name in buyer_name]\n",
    "\n",
    "print(\"買家資訊\")\n",
    "print(\"名稱\\t座標\")\n",
    "for buyer in buyers:\n",
    "    print(\"{}\\t{}\".format(buyer.name, buyer.pos))"
   ]
  },
  {
   "cell_type": "code",
   "execution_count": 444,
   "metadata": {},
   "outputs": [
    {
     "name": "stdout",
     "output_type": "stream",
     "text": [
      "甲外送員(-117, 19) 離 買家B(-140, -394) 最近，獲得整筆訂單\n"
     ]
    }
   ],
   "source": [
    "minDis = math.inf\n",
    "minDeliveryman = deliverymans[0]\n",
    "minBuyer = buyers[0]\n",
    "for deliveryman in deliverymans:\n",
    "    for buyer in buyers:\n",
    "        dis = Path.getTwoPosDistance(deliveryman.pos, buyer.pos)\n",
    "        if dis < minDis:\n",
    "            minDis = dis\n",
    "            minDeliveryman = deliveryman\n",
    "            minBuyer = buyer\n",
    "print(\"{} 離 {} 最近，獲得整筆訂單\".format(minDeliveryman, minBuyer))"
   ]
  },
  {
   "cell_type": "code",
   "execution_count": 445,
   "metadata": {},
   "outputs": [
    {
     "name": "stdout",
     "output_type": "stream",
     "text": [
      "最佳運送路徑\n",
      "甲外送員(-117, 19) -> 買家B(-140, -394)(436) -> 買家A(-522, -384)(392) -> 買家C(363, 555)(1824) -> 完成\n"
     ]
    }
   ],
   "source": [
    "path = Path.getLowestCostPath(minDeliveryman, buyers)\n",
    "print(\"最佳運送路徑\")\n",
    "print(\"{} -> \".format(minDeliveryman), end='')\n",
    "for p in path:\n",
    "    print(\"{}({}) -> \".format(p['buyer'], p['distance']), end='')\n",
    "print(\"完成\")"
   ]
  },
  {
   "cell_type": "code",
   "execution_count": 446,
   "metadata": {},
   "outputs": [
    {
     "name": "stdout",
     "output_type": "stream",
     "text": [
      "本次訂單 甲外送員 獲得 基本費$100 + 距離獎勵$91.20000000000002\n"
     ]
    }
   ],
   "source": [
    "max_distance = sorted(path, key = lambda p: p['distance'], reverse = True)[0]\n",
    "base_salary = 100\n",
    "bonus = Money.getDeliveryBonus(max_distance['distance'])\n",
    "salary = base_salary + bonus\n",
    "Money.saveMoney(minDeliveryman, salary)\n",
    "print(\"本次訂單 {} 獲得 基本費${} + 距離獎勵${}\".format(minDeliveryman.name, base_salary, bonus))"
   ]
  },
  {
   "cell_type": "code",
   "execution_count": 447,
   "metadata": {},
   "outputs": [
    {
     "name": "stdout",
     "output_type": "stream",
     "text": [
      "外送員存款\n",
      "編號\t名稱\t餘額\n",
      "1\t甲外送員\t$10191.2\n",
      "2\t乙外送員\t$10000\n"
     ]
    }
   ],
   "source": [
    "print(\"外送員存款\")\n",
    "print(\"編號\\t名稱\\t餘額\")\n",
    "i = 0\n",
    "for deliveryman in deliverymans:\n",
    "    print(\"{}\\t{}\\t${}\".format(i + 1, deliveryman.name, deliveryman.money))\n",
    "    i += 1"
   ]
  },
  {
   "cell_type": "code",
   "execution_count": 448,
   "metadata": {},
   "outputs": [
    {
     "name": "stdout",
     "output_type": "stream",
     "text": [
      "請選擇要提領的存戶編號\n",
      "從 甲外送員 帳戶提款 $191.0 完成，餘額 $10000.2\n"
     ]
    }
   ],
   "source": [
    "print(\"請選擇要提領的存戶編號\")\n",
    "try:\n",
    "    id = int(input()) - 1\n",
    "    money = abs( float(input()) )\n",
    "except ValueError:\n",
    "    print(\"格式錯誤！\")\n",
    "if id != None:\n",
    "    if id >= 0 and id < len(deliverymans):\n",
    "        Money.withdrawMoney(deliverymans[id], money)\n",
    "        print(\"從 {} 帳戶提款 ${} 完成，餘額 ${}\".format(deliverymans[id].name, money, deliverymans[id].money))\n",
    "    else:\n",
    "        print(\"編號不存在！\")"
   ]
  }
 ],
 "metadata": {
  "interpreter": {
   "hash": "aee8b7b246df8f9039afb4144a1f6fd8d2ca17a180786b69acc140d282b71a49"
  },
  "kernelspec": {
   "display_name": "Python 3.9.9 64-bit",
   "name": "python3"
  },
  "language_info": {
   "codemirror_mode": {
    "name": "ipython",
    "version": 3
   },
   "file_extension": ".py",
   "mimetype": "text/x-python",
   "name": "python",
   "nbconvert_exporter": "python",
   "pygments_lexer": "ipython3",
   "version": "3.9.9"
  },
  "orig_nbformat": 4
 },
 "nbformat": 4,
 "nbformat_minor": 2
}
