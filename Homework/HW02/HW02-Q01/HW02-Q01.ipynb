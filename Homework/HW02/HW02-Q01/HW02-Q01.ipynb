{
 "cells": [
  {
   "cell_type": "markdown",
   "metadata": {},
   "source": [
    "# 外送路徑最佳化\n",
    "By 張皓鈞"
   ]
  },
  {
   "cell_type": "code",
   "execution_count": 424,
   "metadata": {},
   "outputs": [],
   "source": [
    "import random"
   ]
  },
  {
   "cell_type": "markdown",
   "metadata": {},
   "source": [
    "定義XY座標系的邊界大小"
   ]
  },
  {
   "cell_type": "code",
   "execution_count": 425,
   "metadata": {},
   "outputs": [],
   "source": [
    "X_POS_LIMIT = 1000\n",
    "Y_POS_LIMIT = 1000"
   ]
  },
  {
   "cell_type": "markdown",
   "metadata": {},
   "source": [
    "定義商店位置座標"
   ]
  },
  {
   "cell_type": "code",
   "execution_count": 426,
   "metadata": {},
   "outputs": [],
   "source": [
    "STORE_POS = {\n",
    "    \"x\": 0,\n",
    "    \"y\": 0\n",
    "}"
   ]
  },
  {
   "cell_type": "markdown",
   "metadata": {},
   "source": [
    "定義外送員名稱"
   ]
  },
  {
   "cell_type": "code",
   "execution_count": 427,
   "metadata": {},
   "outputs": [],
   "source": [
    "deliverers_name = [\"甲外送員\", \"乙外送員\", \"丙外送員\"]"
   ]
  },
  {
   "cell_type": "markdown",
   "metadata": {},
   "source": [
    "隨機產生外送員的座標資訊"
   ]
  },
  {
   "cell_type": "code",
   "execution_count": 428,
   "metadata": {},
   "outputs": [],
   "source": [
    "deliverers = list()\n",
    "def genDeliveries(deliverers_name):\n",
    "    for name in deliverers_name:\n",
    "        deliverers.append( {\n",
    "            \"name\": name,\n",
    "            \"pos\": {\n",
    "                \"x\": random.randint(X_POS_LIMIT * -1, X_POS_LIMIT),\n",
    "                \"y\": random.randint(Y_POS_LIMIT * -1, Y_POS_LIMIT)\n",
    "            }\n",
    "        } )\n",
    "genDeliveries(deliverers_name)"
   ]
  },
  {
   "cell_type": "markdown",
   "metadata": {},
   "source": [
    "距離計算"
   ]
  },
  {
   "cell_type": "code",
   "execution_count": 429,
   "metadata": {},
   "outputs": [],
   "source": [
    "def calcDistance(posA, posB):\n",
    "    return (abs(posA['x'] - posB['x']) ** 2 + abs(posA['y'] - posB['y']) ** 2) ** 0.5"
   ]
  },
  {
   "cell_type": "markdown",
   "metadata": {},
   "source": [
    "計算外送員與目標點(店鋪)距離"
   ]
  },
  {
   "cell_type": "code",
   "execution_count": 430,
   "metadata": {},
   "outputs": [],
   "source": [
    "def calcDeliverersToPosDistance(targetPos):\n",
    "    for deliverer in deliverers:\n",
    "        distance = calcDistance(deliverer['pos'], targetPos)\n",
    "        deliverer['distance'] = distance\n",
    "calcDeliverersToPosDistance(STORE_POS)"
   ]
  },
  {
   "cell_type": "markdown",
   "metadata": {},
   "source": [
    "以距離排序外送員(遠~近)"
   ]
  },
  {
   "cell_type": "code",
   "execution_count": 431,
   "metadata": {},
   "outputs": [],
   "source": [
    "deliverers = sorted(deliverers, key = lambda deliverer: deliverer['distance'])"
   ]
  },
  {
   "cell_type": "markdown",
   "metadata": {},
   "source": [
    "展示外送員距離店鋪的距離資訊"
   ]
  },
  {
   "cell_type": "code",
   "execution_count": 432,
   "metadata": {},
   "outputs": [
    {
     "name": "stdout",
     "output_type": "stream",
     "text": [
      "第 1 近的外送員為 丙外送員 ，座標為 (273, 689)，距離為 741.1140263144397\n",
      "第 2 近的外送員為 甲外送員 ，座標為 (-943, 474)，距離為 1055.4264540933204\n",
      "第 3 近的外送員為 乙外送員 ，座標為 (-816, -925)，距離為 1233.4832791732524\n"
     ]
    }
   ],
   "source": [
    "def showDeliverersDistanceInfo():\n",
    "    i = 1\n",
    "    for deliverer in deliverers:\n",
    "        print(\"第 {} 近的外送員為 {} ，座標為 ({}, {})，距離為 {}\".format(\n",
    "            i,\n",
    "            deliverer['name'],\n",
    "            deliverer['pos']['x'],\n",
    "            deliverer['pos']['y'],\n",
    "            deliverer['distance']\n",
    "            ))\n",
    "        i += 1\n",
    "showDeliverersDistanceInfo()"
   ]
  },
  {
   "cell_type": "markdown",
   "metadata": {},
   "source": [
    "使用者輸入顧客的位置資訊"
   ]
  },
  {
   "cell_type": "code",
   "execution_count": 433,
   "metadata": {},
   "outputs": [
    {
     "name": "stdout",
     "output_type": "stream",
     "text": [
      "輸入格式錯誤，請重新輸入\n"
     ]
    }
   ],
   "source": [
    "customers = list()\n",
    "def inputCustomersPos(number):\n",
    "    i = 0\n",
    "    while True:\n",
    "        customer_name = \"顧客\" + chr(66+i)\n",
    "        input_data = input(\"請輸入{}的座標(格式：X Y)\".format(customer_name))\n",
    "        try:\n",
    "            input_xy = input_data.split(\" \")\n",
    "            x = int(input_xy[0])\n",
    "            y = int(input_xy[1])\n",
    "            if abs(x) < X_POS_LIMIT and abs(y) < Y_POS_LIMIT:\n",
    "                customers.append({\n",
    "                    \"name\": customer_name,\n",
    "                    \"pos\": {\n",
    "                        \"x\": x,\n",
    "                        \"y\": y\n",
    "                    }\n",
    "                })\n",
    "                i += 1\n",
    "                if i >= number: break\n",
    "            else:\n",
    "                print(\"座標超出範圍限制，請重新輸入\")\n",
    "        except:\n",
    "            print(\"輸入格式錯誤，請重新輸入\")\n",
    "inputCustomersPos(3)"
   ]
  },
  {
   "cell_type": "markdown",
   "metadata": {},
   "source": [
    "尋找距離目標點最近的顧客"
   ]
  },
  {
   "cell_type": "code",
   "execution_count": 434,
   "metadata": {},
   "outputs": [],
   "source": [
    "def findNearestCustomer(customers, targetPos):\n",
    "    nearest_customer = customers[0]\n",
    "    nearest_dist = None\n",
    "    i = 0\n",
    "    nearest_i = i\n",
    "    for customer in customers:\n",
    "        distance = calcDistance(customer['pos'], targetPos)\n",
    "        if nearest_dist == None or distance < nearest_dist:\n",
    "            nearest_dist = distance\n",
    "            nearest_customer = customer\n",
    "            nearest_i = i\n",
    "        i += 1\n",
    "    return nearest_customer, nearest_i"
   ]
  },
  {
   "cell_type": "markdown",
   "metadata": {},
   "source": [
    "尋找距離店舖最近的顧客  \n",
    "然後尋找距離該顧客最近的另一個顧客"
   ]
  },
  {
   "cell_type": "code",
   "execution_count": 435,
   "metadata": {},
   "outputs": [],
   "source": [
    "nearestStoreCustomer, nearestStoreCustomer_i = findNearestCustomer(customers, STORE_POS)\n",
    "customers_without_self = customers\n",
    "del customers_without_self[nearestStoreCustomer_i]\n",
    "nearestLastCustomer, nearestLastCustomer_i = findNearestCustomer(customers_without_self, nearestStoreCustomer['pos'])"
   ]
  },
  {
   "cell_type": "markdown",
   "metadata": {},
   "source": [
    "展示結果"
   ]
  },
  {
   "cell_type": "code",
   "execution_count": 436,
   "metadata": {},
   "outputs": [
    {
     "name": "stdout",
     "output_type": "stream",
     "text": [
      "外送最佳方案為\n",
      "由 丙外送員(273, 689), 至店鋪取餐，然後先送餐給 顧客B(1, 2)，再送餐給 顧客C(3, 4)\n"
     ]
    }
   ],
   "source": [
    "print(\"外送最佳方案為\")\n",
    "print(\"由 {}({}, {}), 至店鋪取餐，然後先送餐給 {}({}, {})，再送餐給 {}({}, {})\".format(\n",
    "    deliverers[0]['name'],\n",
    "    deliverers[0]['pos']['x'],\n",
    "    deliverers[0]['pos']['y'],\n",
    "    nearestStoreCustomer['name'],\n",
    "    nearestStoreCustomer['pos']['x'],\n",
    "    nearestStoreCustomer['pos']['y'],\n",
    "    nearestLastCustomer['name'],\n",
    "    nearestLastCustomer['pos']['x'],\n",
    "    nearestLastCustomer['pos']['y']\n",
    "))"
   ]
  }
 ],
 "metadata": {
  "interpreter": {
   "hash": "aee8b7b246df8f9039afb4144a1f6fd8d2ca17a180786b69acc140d282b71a49"
  },
  "kernelspec": {
   "display_name": "Python 3.9.7 64-bit",
   "name": "python3"
  },
  "language_info": {
   "codemirror_mode": {
    "name": "ipython",
    "version": 3
   },
   "file_extension": ".py",
   "mimetype": "text/x-python",
   "name": "python",
   "nbconvert_exporter": "python",
   "pygments_lexer": "ipython3",
   "version": "3.9.7"
  },
  "orig_nbformat": 4
 },
 "nbformat": 4,
 "nbformat_minor": 2
}
