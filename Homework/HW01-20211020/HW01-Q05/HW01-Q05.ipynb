{
 "cells": [
  {
   "cell_type": "markdown",
   "metadata": {},
   "source": [
    "# 身分證字號最佳組合計算方法\n",
    "匹配8碼相同的可能夫妻組合\n",
    "注：前提為流水號相同"
   ]
  },
  {
   "cell_type": "code",
   "execution_count": 64,
   "metadata": {},
   "outputs": [],
   "source": [
    "from pprint import pprint"
   ]
  },
  {
   "cell_type": "code",
   "execution_count": 65,
   "metadata": {},
   "outputs": [],
   "source": [
    "first_char_list = {\n",
    "    \"A\": 10,\n",
    "    \"B\": 11,\n",
    "    \"C\": 12,\n",
    "    \"D\": 13,\n",
    "    \"E\": 14,\n",
    "    \"F\": 15,\n",
    "    \"G\": 16,\n",
    "    \"H\": 17,\n",
    "    \"J\": 18,\n",
    "    \"K\": 19,\n",
    "    \"L\": 20,\n",
    "    \"M\": 21,\n",
    "    \"N\": 22,\n",
    "    \"P\": 23,\n",
    "    \"Q\": 24,\n",
    "    \"R\": 25,\n",
    "    \"S\": 26,\n",
    "    \"T\": 27,\n",
    "    \"U\": 28,\n",
    "    \"V\": 29,\n",
    "    \"X\": 30,\n",
    "    \"Y\": 31,\n",
    "    \"W\": 32,\n",
    "    \"Z\": 33,\n",
    "    \"I\": 34,\n",
    "    \"O\": 35\n",
    "}"
   ]
  },
  {
   "cell_type": "code",
   "execution_count": 66,
   "metadata": {},
   "outputs": [],
   "source": [
    "best_match_list = dict( [ [ first_char, list() ] for first_char in first_char_list ] )"
   ]
  },
  {
   "cell_type": "code",
   "execution_count": 67,
   "metadata": {},
   "outputs": [],
   "source": [
    "def getSum(first_char_num:int, sex: int) -> int:\n",
    "    num_a = int(str(first_char_num)[0:1])\n",
    "    num_b = int(str(first_char_num)[1:2])\n",
    "    num_c = sex\n",
    "    return ( ( num_a * 1 ) + ( num_b * 9 ) + ( num_c * 8 ) ) % 10"
   ]
  },
  {
   "cell_type": "code",
   "execution_count": 68,
   "metadata": {},
   "outputs": [],
   "source": [
    "for boy_first_char, boy_first_char_num in first_char_list.items():\n",
    "    boy = getSum(boy_first_char_num, 1) # 夫\n",
    "    for girl_first_char, girl_first_char_num in first_char_list.items():\n",
    "        girl = getSum(girl_first_char_num, 2) # 妻\n",
    "        if boy == girl: best_match_list[boy_first_char].append(girl_first_char)"
   ]
  },
  {
   "cell_type": "code",
   "execution_count": 69,
   "metadata": {},
   "outputs": [
    {
     "name": "stdout",
     "output_type": "stream",
     "text": [
      "{'A': ['J', 'V', 'X'],\n",
      " 'B': ['K', 'L', 'Y'],\n",
      " 'C': ['A', 'M', 'W'],\n",
      " 'D': ['B', 'N', 'Z'],\n",
      " 'E': ['C', 'P', 'I'],\n",
      " 'F': ['D', 'Q', 'O'],\n",
      " 'G': ['E', 'R'],\n",
      " 'H': ['F', 'S'],\n",
      " 'I': ['A', 'M', 'W'],\n",
      " 'J': ['G', 'T'],\n",
      " 'K': ['H', 'U'],\n",
      " 'L': ['H', 'U'],\n",
      " 'M': ['J', 'V', 'X'],\n",
      " 'N': ['K', 'L', 'Y'],\n",
      " 'O': ['B', 'N', 'Z'],\n",
      " 'P': ['A', 'M', 'W'],\n",
      " 'Q': ['B', 'N', 'Z'],\n",
      " 'R': ['C', 'P', 'I'],\n",
      " 'S': ['D', 'Q', 'O'],\n",
      " 'T': ['E', 'R'],\n",
      " 'U': ['F', 'S'],\n",
      " 'V': ['G', 'T'],\n",
      " 'W': ['J', 'V', 'X'],\n",
      " 'X': ['G', 'T'],\n",
      " 'Y': ['H', 'U'],\n",
      " 'Z': ['K', 'L', 'Y']}\n"
     ]
    }
   ],
   "source": [
    "pprint(best_match_list)"
   ]
  }
 ],
 "metadata": {
  "interpreter": {
   "hash": "aee8b7b246df8f9039afb4144a1f6fd8d2ca17a180786b69acc140d282b71a49"
  },
  "kernelspec": {
   "display_name": "Python 3.9.7 64-bit",
   "name": "python3"
  },
  "language_info": {
   "codemirror_mode": {
    "name": "ipython",
    "version": 3
   },
   "file_extension": ".py",
   "mimetype": "text/x-python",
   "name": "python",
   "nbconvert_exporter": "python",
   "pygments_lexer": "ipython3",
   "version": "3.9.7"
  },
  "orig_nbformat": 4
 },
 "nbformat": 4,
 "nbformat_minor": 2
}
