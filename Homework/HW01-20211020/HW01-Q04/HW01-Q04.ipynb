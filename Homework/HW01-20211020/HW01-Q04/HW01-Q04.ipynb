{
 "cells": [
  {
   "cell_type": "markdown",
   "metadata": {},
   "source": [
    "## 1. A certain CS professor gives 100-point exams that are graded on the following scale\n",
    " - 90-100: A\n",
    " - 80-89: B\n",
    " - 70-79: C\n",
    " - 60-69: D\n",
    " - <60: F\n",
    "Write a program that accepts an exam score as input and uses a decision structure to calculate the corresponding grade."
   ]
  },
  {
   "cell_type": "code",
   "execution_count": 19,
   "metadata": {},
   "outputs": [
    {
     "name": "stdout",
     "output_type": "stream",
     "text": [
      "你的成績 74 為 C 評級\n"
     ]
    }
   ],
   "source": [
    "try:\n",
    "    score = int( input() )\n",
    "except ValueError:\n",
    "    print(\"錯誤！ 原因：請輸入數字。\")\n",
    "\n",
    "if score:\n",
    "    if score >= 90 and score <= 100:\n",
    "        grade = 'A'\n",
    "    elif score >= 80 and score <= 89:\n",
    "        grade = 'B'\n",
    "    elif score >= 70 and score <= 79:\n",
    "        grade = 'C'\n",
    "    elif score >= 60 and score <= 69:\n",
    "        grade = 'D'\n",
    "    elif score < 60:\n",
    "        grade = 'F'\n",
    "    else:\n",
    "        grade = 'Unknow'\n",
    "\n",
    "    print( \"你的成績 {} 為 {} 評級\".format( score, grade ) )"
   ]
  },
  {
   "cell_type": "markdown",
   "metadata": {},
   "source": [
    "## 2. A certain college classifies students according to credits earned.\n",
    "A student with less than 7 credits is a Freshman. At least 7 credits are required to be a Sophomore, 16 to be a Junior and 26 to be classified as a Senior. Write a program that calculates class standing from the number of credits earned."
   ]
  },
  {
   "cell_type": "code",
   "execution_count": 3,
   "metadata": {},
   "outputs": [
    {
     "name": "stdout",
     "output_type": "stream",
     "text": [
      "請輸入您的點數(credits)\n",
      "你的點數(credits) 7 為 Sophomore \n"
     ]
    }
   ],
   "source": [
    "print(\"請輸入您的點數(credits)\")\n",
    "try:\n",
    "    credits = int( input() )\n",
    "except ValueError:\n",
    "    print(\"錯誤！ 原因：請輸入數字\")\n",
    "\n",
    "if credits:\n",
    "    if credits < 7:\n",
    "        level = 'Freshman'\n",
    "    elif credits >= 7 and credits < 16:\n",
    "        level = 'Sophomore'\n",
    "    elif credits >= 16 and credits < 26:\n",
    "        level = 'Junior'\n",
    "    elif credits >= 26:\n",
    "        level = 'Senior'\n",
    "    else:\n",
    "        level = 'Unknow'\n",
    "    print( \"你的點數(credits) {} 為 {} \".format(credits, level) )"
   ]
  },
  {
   "cell_type": "markdown",
   "metadata": {},
   "source": [
    "## 3. A babysitter charges $2.5 an hour until 9:00PM when the rate drops to $1.75 an hour (the children are in bed)\n",
    "Write a program that accepts a starting time and ending time (in hours and minutes) and calculates the total babysitting bill. You may assume that the starting and ending times are in a single 24-hour period."
   ]
  },
  {
   "cell_type": "code",
   "execution_count": 18,
   "metadata": {},
   "outputs": [
    {
     "name": "stdout",
     "output_type": "stream",
     "text": [
      "請輸入開始時間(時)\n",
      "請輸入開始時間(分)\n",
      "請輸入結束時間(時)\n",
      "請輸入結束時間(分)\n",
      "57.0\n"
     ]
    }
   ],
   "source": [
    "normal_price = 2.5\n",
    "rate_drops_price = 1.75\n",
    "rate_drops_time_hours = 21\n",
    "\n",
    "try:\n",
    "    print(\"請輸入開始時間(時)\")\n",
    "    start_hours = int( input() )\n",
    "    if start_hours > 24: raise ValueError()\n",
    "    print(\"請輸入開始時間(分)\")\n",
    "    start_mins = int( input() )\n",
    "    if start_mins > 60: raise ValueError()\n",
    "    print(\"請輸入結束時間(時)\")\n",
    "    end_hours = int( input() )\n",
    "    if end_hours > 24: raise ValueError()\n",
    "    print(\"請輸入結束時間(分)\")\n",
    "    end_mins = int( input() )\n",
    "    if end_mins > 60: raise ValueError()\n",
    "\n",
    "    # 如果\b超出1分鐘，則進位1小時\n",
    "    if start_mins > 0: start_hours += 1\n",
    "    if end_mins > 0: end_hours += 1\n",
    "    if start_hours > 24 or end_hours > 24: raise ValueError()\n",
    "except ValueError:\n",
    "    print(\"錯誤！ 原因：請輸入正確格式\")\n",
    "\n",
    "bill = 0\n",
    "bill += ( end_hours - start_hours ) * normal_price\n",
    "if end_hours >= rate_drops_time_hours:\n",
    "    bill -= ( end_hours - max( start_hours, rate_drops_time_hours ) + 1 ) * ( normal_price - rate_drops_price )\n",
    "print(bill)"
   ]
  }
 ],
 "metadata": {
  "interpreter": {
   "hash": "aee8b7b246df8f9039afb4144a1f6fd8d2ca17a180786b69acc140d282b71a49"
  },
  "kernelspec": {
   "display_name": "Python 3.9.7 64-bit",
   "name": "python3"
  },
  "language_info": {
   "codemirror_mode": {
    "name": "ipython",
    "version": 3
   },
   "file_extension": ".py",
   "mimetype": "text/x-python",
   "name": "python",
   "nbconvert_exporter": "python",
   "pygments_lexer": "ipython3",
   "version": "3.9.7"
  },
  "orig_nbformat": 4
 },
 "nbformat": 4,
 "nbformat_minor": 2
}
