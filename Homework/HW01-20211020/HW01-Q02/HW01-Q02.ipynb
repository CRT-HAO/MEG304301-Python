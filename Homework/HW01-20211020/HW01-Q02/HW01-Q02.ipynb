{
 "cells": [
  {
   "cell_type": "code",
   "execution_count": 5,
   "metadata": {},
   "outputs": [],
   "source": [
    "def SieveOfEratosthenes(n): \n",
    "\t\n",
    "\t# Create a boolean array \"prime[0..n]\" and initialize \n",
    "\t# all entries it as true. A value in prime[i] will \n",
    "\t# finally be false if i is Not a prime, else true. \n",
    "\tprime = [True for i in range(n + 1)] \n",
    "\tp = 2\n",
    "\twhile (p * p <= n): \n",
    "\t\t\n",
    "\t\t# If prime[p] is not changed, then it is a prime \n",
    "\t\tif (prime[p] == True): \n",
    "\t\t\t\n",
    "\t\t\t# Update all multiples of p \n",
    "\t\t\tfor i in range(p * 2, n + 1, p): \n",
    "\t\t\t\tprime[i] = False\n",
    "\t\tp += 1\n",
    "\tprime[0]= False\n",
    "\tprime[1]= False\n",
    "\t# Print all prime numbers \n",
    "\tfor p in range(n + 1): \n",
    "\t\tif prime[p]: \n",
    "\t\t\tprint(p)"
   ]
  },
  {
   "cell_type": "code",
   "execution_count": 6,
   "metadata": {},
   "outputs": [
    {
     "name": "stdout",
     "output_type": "stream",
     "text": [
      "2\n",
      "3\n",
      "5\n",
      "7\n",
      "11\n",
      "13\n",
      "17\n",
      "19\n",
      "23\n",
      "29\n",
      "31\n",
      "37\n",
      "41\n",
      "43\n",
      "47\n",
      "53\n",
      "59\n",
      "61\n",
      "67\n",
      "71\n",
      "73\n",
      "79\n",
      "83\n",
      "89\n",
      "97\n",
      "101\n",
      "103\n",
      "107\n",
      "109\n"
     ]
    }
   ],
   "source": [
    "n = int( input() )\n",
    "SieveOfEratosthenes(n)"
   ]
  }
 ],
 "metadata": {
  "interpreter": {
   "hash": "aee8b7b246df8f9039afb4144a1f6fd8d2ca17a180786b69acc140d282b71a49"
  },
  "kernelspec": {
   "display_name": "Python 3.9.7 64-bit",
   "name": "python3"
  },
  "language_info": {
   "codemirror_mode": {
    "name": "ipython",
    "version": 3
   },
   "file_extension": ".py",
   "mimetype": "text/x-python",
   "name": "python",
   "nbconvert_exporter": "python",
   "pygments_lexer": "ipython3",
   "version": "3.9.7"
  },
  "orig_nbformat": 4
 },
 "nbformat": 4,
 "nbformat_minor": 2
}
